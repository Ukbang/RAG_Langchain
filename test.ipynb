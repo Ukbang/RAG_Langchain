{
 "cells": [
  {
   "cell_type": "code",
   "execution_count": 11,
   "metadata": {},
   "outputs": [],
   "source": [
    "# from langchain_openai import ChatOpenAI\n",
    "# from langchain_google_genai import GoogleGenerativeAI\n",
    "# from langchain_google_vertexai import VertexAI"
   ]
  },
  {
   "cell_type": "code",
   "execution_count": 19,
   "metadata": {},
   "outputs": [],
   "source": [
    "from langchain_google_genai import GoogleGenerativeAI\n",
    "from IPython.display import Markdown\n",
    "import os"
   ]
  },
  {
   "cell_type": "code",
   "execution_count": 25,
   "metadata": {},
   "outputs": [],
   "source": [
    "# os.environ[\"google_api_key\"] = google_api_key"
   ]
  },
  {
   "cell_type": "code",
   "execution_count": 26,
   "metadata": {},
   "outputs": [],
   "source": [
    "llm = GoogleGenerativeAI(model=\"gemini-pro\", \n",
    "                         temperature=0.1,)"
   ]
  },
  {
   "cell_type": "code",
   "execution_count": 17,
   "metadata": {},
   "outputs": [],
   "source": [
    "result = llm.invoke(\"What is a Potato?\")"
   ]
  },
  {
   "cell_type": "code",
   "execution_count": 31,
   "metadata": {},
   "outputs": [],
   "source": [
    "result2 = llm.invoke(\"How do you feel today? very good night. alright? Answer only Korean\")"
   ]
  },
  {
   "cell_type": "code",
   "execution_count": 33,
   "metadata": {},
   "outputs": [],
   "source": [
    "result3 = llm.invoke(\"오늘은 기분이 어때요? 아주 좋아요. 괜찮아요?\")"
   ]
  },
  {
   "cell_type": "code",
   "execution_count": 35,
   "metadata": {},
   "outputs": [],
   "source": [
    "result3 = llm.invoke(\"감자가 뭐에요? 자세하게 알려줘요\")"
   ]
  },
  {
   "cell_type": "code",
   "execution_count": 21,
   "metadata": {},
   "outputs": [
    {
     "data": {
      "text/markdown": [
       "**Definition:**\n",
       "\n",
       "A potato is a starchy, edible tuber that grows underground on the stems of the potato plant (Solanum tuberosum).\n",
       "\n",
       "**Characteristics:**\n",
       "\n",
       "* **Shape:** Typically round or oval, but can vary depending on the variety.\n",
       "* **Size:** Ranges from small (golf ball size) to large (softball size).\n",
       "* **Skin:** Thin and papery, with a color that varies from white to yellow, red, or purple.\n",
       "* **Flesh:** Starchy and white, with a slightly sweet flavor.\n",
       "* **Eyes:** Small indentations on the skin where new shoots can emerge.\n",
       "* **Sprouts:** Small, green shoots that grow from the eyes when exposed to light.\n",
       "\n",
       "**Nutritional Value:**\n",
       "\n",
       "Potatoes are a good source of:\n",
       "\n",
       "* Carbohydrates\n",
       "* Fiber\n",
       "* Vitamin C\n",
       "* Potassium\n",
       "* Iron\n",
       "* Folate\n",
       "\n",
       "**Varieties:**\n",
       "\n",
       "There are over 4,000 varieties of potatoes, each with its own unique characteristics. Some common varieties include:\n",
       "\n",
       "* **Russet:** Large, brown-skinned potatoes with a starchy, fluffy texture.\n",
       "* **Yukon Gold:** Medium-sized, yellow-skinned potatoes with a creamy, buttery texture.\n",
       "* **Red Bliss:** Small, red-skinned potatoes with a waxy, firm texture.\n",
       "* **Fingerling:** Long, narrow potatoes with a variety of colors and textures.\n",
       "* **Purple Majesty:** Purple-skinned potatoes with a slightly sweet flavor.\n",
       "\n",
       "**Uses:**\n",
       "\n",
       "Potatoes are a versatile vegetable that can be used in a wide variety of dishes, including:\n",
       "\n",
       "* **Mashed potatoes**\n",
       "* **Baked potatoes**\n",
       "* **French fries**\n",
       "* **Potato chips**\n",
       "* **Potato salad**\n",
       "* **Soups and stews**\n",
       "* **Casseroles**"
      ],
      "text/plain": [
       "<IPython.core.display.Markdown object>"
      ]
     },
     "execution_count": 21,
     "metadata": {},
     "output_type": "execute_result"
    }
   ],
   "source": [
    "Markdown(result)"
   ]
  },
  {
   "cell_type": "code",
   "execution_count": 36,
   "metadata": {},
   "outputs": [
    {
     "data": {
      "text/markdown": [
       "**감자**\n",
       "\n",
       "**식물학적 분류**\n",
       "\n",
       "* 과: 가지과 (Solanaceae)\n",
       "* 속: 감자속 (Solanum)\n",
       "* 종: 감자 (Solanum tuberosum)\n",
       "\n",
       "**특징**\n",
       "\n",
       "* **줄기:** 땅 위로 뻗은 녹색 줄기로, 높이는 30~120cm까지 자랄 수 있습니다.\n",
       "* **잎:** 깃털 모양의 복엽으로, 5~9개의 잎사귀가 있습니다.\n",
       "* **꽃:** 흰색, 자주색 또는 분홍색의 작은 꽃이 줄기 끝에 핀다.\n",
       "* **열매:** 녹색 또는 자주색의 작은 열매로, 독성이 있습니다.\n",
       "* **줄기:** 땅속에 있는 덩이줄기로, 식용 부위입니다.\n",
       "\n",
       "**줄기 (덩이줄기)**\n",
       "\n",
       "* 감자의 줄기는 땅속에 있는 덩이줄기로, 식용 부위입니다.\n",
       "* 크기, 모양, 색상은 품종에 따라 다양합니다.\n",
       "* 일반적으로 둥글거나 타원형이며, 갈색, 노란색, 흰색 또는 붉은색 껍질을 가지고 있습니다.\n",
       "* 덩이줄기 내부는 흰색 또는 노란색의 육질로, 전분이 풍부합니다.\n",
       "\n",
       "**영양소**\n",
       "\n",
       "감자는 다음과 같은 영양소가 풍부합니다.\n",
       "\n",
       "* **탄수화물:** 주요 에너지 공급원\n",
       "* **비타민 C:** 면역력 강화\n",
       "* **칼륨:** 혈압 조절\n",
       "* **섬유질:** 소화 건강 개선\n",
       "* **비타민 B6:** 신진대사 지원\n",
       "* **철분:** 빈혈 예방\n",
       "\n",
       "**품종**\n",
       "\n",
       "수많은 감자 품종이 있으며, 각각 고유한 특성을 가지고 있습니다. 일반적인 품종은 다음과 같습니다.\n",
       "\n",
       "* **러셋 버뱅크:** 베이킹, 프라이, 매시에 적합한 육질이 부드러운 품종\n",
       "* **유콘 골드:** 노란색 껍질과 육질을 가진 맛있는 품종\n",
       "* **레드 노르랜드:** 붉은색 껍질과 육질을 가진 삶기에 적합한 품종\n",
       "* **파인 아이:** 작고 둥근 품종으로 샐러드나 구이에 적합\n",
       "* **뉴 포터:** 껍질이 얇고 육질이 단단한 품종으로 삶기에 적합\n",
       "\n",
       "**재배**\n",
       "\n",
       "감자는 전 세계적으로 재배되는 중요한 작물입니다.\n",
       "\n",
       "* **기후:** 감자는 온화한 기후를 선호하며, 10~25°C의 온도에서 잘 자랍니다.\n",
       "* **토양:** 배수가 잘 되고 유기물이 풍부한 토양을 선호합니다.\n",
       "* **심기:** 감자는 봄에 땅에 심습니다.\n",
       "* **수확:** 감자는 일반적으로 심은 후 90~120일 후에 수확합니다.\n",
       "\n",
       "**저장**\n",
       "\n",
       "감자는 서늘하고 어둡고 통풍이 잘 되는 곳에 보관해야 합니다.\n",
       "\n",
       "* **온도:** 7~10°C\n",
       "* **습도:** 85~90%\n",
       "* **통풍:** 공기 순환이 잘 되어야 합니다.\n",
       "\n",
       "**사용**\n",
       "\n",
       "감자는 다양한 요리에 사용되는 다목적 재료입니다.\n",
       "\n",
       "* **삶기:** 삶은 감자는 샐러드, 수프, 스튜에 사용할 수 있습니다.\n",
       "* **굽기:** 구운 감자는 버터, 사워크림, 치즈와 함께 제공할 수 있습니다.\n",
       "* **튀기기:** 튀긴 감자는 프라이, 해시 브라운, 토토로로 사용할 수 있습니다.\n",
       "* **매시기:** 매시한 감자는 으깬 감자, 감자 튀김, 감자 팬케이크에 사용할 수 있습니다.\n",
       "* **볶기:** 볶은 감자는 스터프라이, 해쉬, 파엘라에 사용할 수 있습니다."
      ],
      "text/plain": [
       "<IPython.core.display.Markdown object>"
      ]
     },
     "execution_count": 36,
     "metadata": {},
     "output_type": "execute_result"
    }
   ],
   "source": [
    "Markdown(result3)"
   ]
  }
 ],
 "metadata": {
  "kernelspec": {
   "display_name": "Langchain",
   "language": "python",
   "name": "python3"
  },
  "language_info": {
   "codemirror_mode": {
    "name": "ipython",
    "version": 3
   },
   "file_extension": ".py",
   "mimetype": "text/x-python",
   "name": "python",
   "nbconvert_exporter": "python",
   "pygments_lexer": "ipython3",
   "version": "3.10.12"
  }
 },
 "nbformat": 4,
 "nbformat_minor": 2
}
